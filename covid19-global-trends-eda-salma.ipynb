{
 "cells": [
  {
   "cell_type": "markdown",
   "id": "e044759a-4708-4c75-b36e-8c77942de47b",
   "metadata": {},
   "source": [
    "DATA UNDERSTANDING STAGE1"
   ]
  },
  {
   "cell_type": "code",
   "execution_count": 1,
   "id": "fd9d8ea5-c1ff-43d9-8e7e-69a05f3484c3",
   "metadata": {},
   "outputs": [],
   "source": [
    "import pandas as pd"
   ]
  },
  {
   "cell_type": "code",
   "execution_count": 2,
   "id": "3a0c0982-c8f8-4562-94e2-edf29d921e53",
   "metadata": {},
   "outputs": [],
   "source": [
    "df = pd.read_csv('C:/Users/Eng Salma Al-Yossef/Desktop/owid-covid-data.csv')"
   ]
  },
  {
   "cell_type": "code",
   "execution_count": 3,
   "id": "098f10e2-b6b0-443d-8932-cb574cfd1d66",
   "metadata": {},
   "outputs": [
    {
     "data": {
      "text/plain": [
       "(429435, 67)"
      ]
     },
     "execution_count": 3,
     "metadata": {},
     "output_type": "execute_result"
    }
   ],
   "source": [
    "df.shape"
   ]
  },
  {
   "cell_type": "code",
   "execution_count": 4,
   "id": "e6c133f2-f334-436c-a765-3fbf1fea2791",
   "metadata": {},
   "outputs": [
    {
     "data": {
      "text/plain": [
       "Index(['iso_code', 'continent', 'location', 'date', 'total_cases', 'new_cases',\n",
       "       'new_cases_smoothed', 'total_deaths', 'new_deaths',\n",
       "       'new_deaths_smoothed', 'total_cases_per_million',\n",
       "       'new_cases_per_million', 'new_cases_smoothed_per_million',\n",
       "       'total_deaths_per_million', 'new_deaths_per_million',\n",
       "       'new_deaths_smoothed_per_million', 'reproduction_rate', 'icu_patients',\n",
       "       'icu_patients_per_million', 'hosp_patients',\n",
       "       'hosp_patients_per_million', 'weekly_icu_admissions',\n",
       "       'weekly_icu_admissions_per_million', 'weekly_hosp_admissions',\n",
       "       'weekly_hosp_admissions_per_million', 'total_tests', 'new_tests',\n",
       "       'total_tests_per_thousand', 'new_tests_per_thousand',\n",
       "       'new_tests_smoothed', 'new_tests_smoothed_per_thousand',\n",
       "       'positive_rate', 'tests_per_case', 'tests_units', 'total_vaccinations',\n",
       "       'people_vaccinated', 'people_fully_vaccinated', 'total_boosters',\n",
       "       'new_vaccinations', 'new_vaccinations_smoothed',\n",
       "       'total_vaccinations_per_hundred', 'people_vaccinated_per_hundred',\n",
       "       'people_fully_vaccinated_per_hundred', 'total_boosters_per_hundred',\n",
       "       'new_vaccinations_smoothed_per_million',\n",
       "       'new_people_vaccinated_smoothed',\n",
       "       'new_people_vaccinated_smoothed_per_hundred', 'stringency_index',\n",
       "       'population_density', 'median_age', 'aged_65_older', 'aged_70_older',\n",
       "       'gdp_per_capita', 'extreme_poverty', 'cardiovasc_death_rate',\n",
       "       'diabetes_prevalence', 'female_smokers', 'male_smokers',\n",
       "       'handwashing_facilities', 'hospital_beds_per_thousand',\n",
       "       'life_expectancy', 'human_development_index', 'population',\n",
       "       'excess_mortality_cumulative_absolute', 'excess_mortality_cumulative',\n",
       "       'excess_mortality', 'excess_mortality_cumulative_per_million'],\n",
       "      dtype='object')"
      ]
     },
     "execution_count": 4,
     "metadata": {},
     "output_type": "execute_result"
    }
   ],
   "source": [
    "df.columns"
   ]
  },
  {
   "cell_type": "code",
   "execution_count": 5,
   "id": "1378589a-3c2c-4856-b6eb-8ae778d9c94e",
   "metadata": {},
   "outputs": [
    {
     "name": "stdout",
     "output_type": "stream",
     "text": [
      "<class 'pandas.core.frame.DataFrame'>\n",
      "RangeIndex: 429435 entries, 0 to 429434\n",
      "Data columns (total 67 columns):\n",
      " #   Column                                      Non-Null Count   Dtype  \n",
      "---  ------                                      --------------   -----  \n",
      " 0   iso_code                                    429435 non-null  object \n",
      " 1   continent                                   402910 non-null  object \n",
      " 2   location                                    429435 non-null  object \n",
      " 3   date                                        429435 non-null  object \n",
      " 4   total_cases                                 411804 non-null  float64\n",
      " 5   new_cases                                   410159 non-null  float64\n",
      " 6   new_cases_smoothed                          408929 non-null  float64\n",
      " 7   total_deaths                                411804 non-null  float64\n",
      " 8   new_deaths                                  410608 non-null  float64\n",
      " 9   new_deaths_smoothed                         409378 non-null  float64\n",
      " 10  total_cases_per_million                     411804 non-null  float64\n",
      " 11  new_cases_per_million                       410159 non-null  float64\n",
      " 12  new_cases_smoothed_per_million              408929 non-null  float64\n",
      " 13  total_deaths_per_million                    411804 non-null  float64\n",
      " 14  new_deaths_per_million                      410608 non-null  float64\n",
      " 15  new_deaths_smoothed_per_million             409378 non-null  float64\n",
      " 16  reproduction_rate                           184817 non-null  float64\n",
      " 17  icu_patients                                39116 non-null   float64\n",
      " 18  icu_patients_per_million                    39116 non-null   float64\n",
      " 19  hosp_patients                               40656 non-null   float64\n",
      " 20  hosp_patients_per_million                   40656 non-null   float64\n",
      " 21  weekly_icu_admissions                       10993 non-null   float64\n",
      " 22  weekly_icu_admissions_per_million           10993 non-null   float64\n",
      " 23  weekly_hosp_admissions                      24497 non-null   float64\n",
      " 24  weekly_hosp_admissions_per_million          24497 non-null   float64\n",
      " 25  total_tests                                 79387 non-null   float64\n",
      " 26  new_tests                                   75403 non-null   float64\n",
      " 27  total_tests_per_thousand                    79387 non-null   float64\n",
      " 28  new_tests_per_thousand                      75403 non-null   float64\n",
      " 29  new_tests_smoothed                          103965 non-null  float64\n",
      " 30  new_tests_smoothed_per_thousand             103965 non-null  float64\n",
      " 31  positive_rate                               95927 non-null   float64\n",
      " 32  tests_per_case                              94348 non-null   float64\n",
      " 33  tests_units                                 106788 non-null  object \n",
      " 34  total_vaccinations                          85417 non-null   float64\n",
      " 35  people_vaccinated                           81132 non-null   float64\n",
      " 36  people_fully_vaccinated                     78061 non-null   float64\n",
      " 37  total_boosters                              53600 non-null   float64\n",
      " 38  new_vaccinations                            70971 non-null   float64\n",
      " 39  new_vaccinations_smoothed                   195029 non-null  float64\n",
      " 40  total_vaccinations_per_hundred              85417 non-null   float64\n",
      " 41  people_vaccinated_per_hundred               81132 non-null   float64\n",
      " 42  people_fully_vaccinated_per_hundred         78061 non-null   float64\n",
      " 43  total_boosters_per_hundred                  53600 non-null   float64\n",
      " 44  new_vaccinations_smoothed_per_million       195029 non-null  float64\n",
      " 45  new_people_vaccinated_smoothed              192177 non-null  float64\n",
      " 46  new_people_vaccinated_smoothed_per_hundred  192177 non-null  float64\n",
      " 47  stringency_index                            196190 non-null  float64\n",
      " 48  population_density                          360492 non-null  float64\n",
      " 49  median_age                                  334663 non-null  float64\n",
      " 50  aged_65_older                               323270 non-null  float64\n",
      " 51  aged_70_older                               331315 non-null  float64\n",
      " 52  gdp_per_capita                              328292 non-null  float64\n",
      " 53  extreme_poverty                             211996 non-null  float64\n",
      " 54  cardiovasc_death_rate                       328865 non-null  float64\n",
      " 55  diabetes_prevalence                         345911 non-null  float64\n",
      " 56  female_smokers                              247165 non-null  float64\n",
      " 57  male_smokers                                243817 non-null  float64\n",
      " 58  handwashing_facilities                      161741 non-null  float64\n",
      " 59  hospital_beds_per_thousand                  290689 non-null  float64\n",
      " 60  life_expectancy                             390299 non-null  float64\n",
      " 61  human_development_index                     319127 non-null  float64\n",
      " 62  population                                  429435 non-null  int64  \n",
      " 63  excess_mortality_cumulative_absolute        13411 non-null   float64\n",
      " 64  excess_mortality_cumulative                 13411 non-null   float64\n",
      " 65  excess_mortality                            13411 non-null   float64\n",
      " 66  excess_mortality_cumulative_per_million     13411 non-null   float64\n",
      "dtypes: float64(61), int64(1), object(5)\n",
      "memory usage: 219.5+ MB\n"
     ]
    }
   ],
   "source": [
    "df.info()"
   ]
  },
  {
   "cell_type": "markdown",
   "id": "58ba40cb-f6d0-48ff-8c6c-53a92e4fbaf4",
   "metadata": {},
   "source": [
    "MISSING VALUES PROCESSING"
   ]
  },
  {
   "cell_type": "code",
   "execution_count": 6,
   "id": "28b98b8b-77e4-4d59-8fde-0abfce72b844",
   "metadata": {},
   "outputs": [
    {
     "data": {
      "text/plain": [
       "weekly_icu_admissions_per_million          418442\n",
       "weekly_icu_admissions                      418442\n",
       "excess_mortality_cumulative_per_million    416024\n",
       "excess_mortality                           416024\n",
       "excess_mortality_cumulative                416024\n",
       "excess_mortality_cumulative_absolute       416024\n",
       "weekly_hosp_admissions_per_million         404938\n",
       "weekly_hosp_admissions                     404938\n",
       "icu_patients                               390319\n",
       "icu_patients_per_million                   390319\n",
       "hosp_patients_per_million                  388779\n",
       "hosp_patients                              388779\n",
       "total_boosters_per_hundred                 375835\n",
       "total_boosters                             375835\n",
       "new_vaccinations                           358464\n",
       "new_tests                                  354032\n",
       "new_tests_per_thousand                     354032\n",
       "people_fully_vaccinated                    351374\n",
       "people_fully_vaccinated_per_hundred        351374\n",
       "total_tests                                350048\n",
       "total_tests_per_thousand                   350048\n",
       "people_vaccinated                          348303\n",
       "people_vaccinated_per_hundred              348303\n",
       "total_vaccinations                         344018\n",
       "total_vaccinations_per_hundred             344018\n",
       "tests_per_case                             335087\n",
       "positive_rate                              333508\n",
       "new_tests_smoothed_per_thousand            325470\n",
       "new_tests_smoothed                         325470\n",
       "tests_units                                322647\n",
       "dtype: int64"
      ]
     },
     "execution_count": 6,
     "metadata": {},
     "output_type": "execute_result"
    }
   ],
   "source": [
    "df.isnull().sum().sort_values(ascending = False).head(30)"
   ]
  },
  {
   "cell_type": "markdown",
   "id": "dc10aa72-c22f-451a-bd2b-e17d298f4724",
   "metadata": {},
   "source": [
    "drop columns with huge amount of missing value"
   ]
  },
  {
   "cell_type": "code",
   "execution_count": 7,
   "id": "78459172-6bba-4553-a1ef-ff4f09b3a447",
   "metadata": {},
   "outputs": [],
   "source": [
    "columns_to_drop = [\n",
    "    \"icu_patients\", \"icu_patients_per_million\", \"weekly_icu_admissions\", \n",
    "    \"weekly_icu_admissions_per_million\", \"weekly_hosp_admissions\", \n",
    "    \"weekly_hosp_admissions_per_million\", \"excess_mortality\", \n",
    "    \"excess_mortality_cumulative\", \"excess_mortality_cumulative_absolute\", \n",
    "    \"excess_mortality_cumulative_per_million\",'hosp_patients_per_million','hosp_patients'\n",
    "]\n",
    "df = df.drop(columns=columns_to_drop)"
   ]
  },
  {
   "cell_type": "markdown",
   "id": "816123f0-4b12-4636-ae1a-01865c89c129",
   "metadata": {},
   "source": [
    "the frame after drop columns"
   ]
  },
  {
   "cell_type": "code",
   "execution_count": 8,
   "id": "1718ff09-c3aa-443b-a571-204eb1534a95",
   "metadata": {},
   "outputs": [
    {
     "data": {
      "text/plain": [
       "total_boosters_per_hundred                    375835\n",
       "total_boosters                                375835\n",
       "new_vaccinations                              358464\n",
       "new_tests                                     354032\n",
       "new_tests_per_thousand                        354032\n",
       "people_fully_vaccinated                       351374\n",
       "people_fully_vaccinated_per_hundred           351374\n",
       "total_tests                                   350048\n",
       "total_tests_per_thousand                      350048\n",
       "people_vaccinated_per_hundred                 348303\n",
       "people_vaccinated                             348303\n",
       "total_vaccinations_per_hundred                344018\n",
       "total_vaccinations                            344018\n",
       "tests_per_case                                335087\n",
       "positive_rate                                 333508\n",
       "new_tests_smoothed_per_thousand               325470\n",
       "new_tests_smoothed                            325470\n",
       "tests_units                                   322647\n",
       "handwashing_facilities                        267694\n",
       "reproduction_rate                             244618\n",
       "new_people_vaccinated_smoothed_per_hundred    237258\n",
       "new_people_vaccinated_smoothed                237258\n",
       "new_vaccinations_smoothed_per_million         234406\n",
       "new_vaccinations_smoothed                     234406\n",
       "stringency_index                              233245\n",
       "extreme_poverty                               217439\n",
       "male_smokers                                  185618\n",
       "female_smokers                                182270\n",
       "hospital_beds_per_thousand                    138746\n",
       "human_development_index                       110308\n",
       "dtype: int64"
      ]
     },
     "execution_count": 8,
     "metadata": {},
     "output_type": "execute_result"
    }
   ],
   "source": [
    "df.isnull().sum().sort_values(ascending = False).head(30)"
   ]
  },
  {
   "cell_type": "markdown",
   "id": "ed0a77aa-eaec-434c-b22e-782b0b081cf1",
   "metadata": {},
   "source": [
    "القيم المكررة "
   ]
  },
  {
   "cell_type": "code",
   "execution_count": 9,
   "id": "5d16145e-6e29-4f97-a2f4-f5954a32f608",
   "metadata": {},
   "outputs": [
    {
     "data": {
      "text/plain": [
       "0"
      ]
     },
     "execution_count": 9,
     "metadata": {},
     "output_type": "execute_result"
    }
   ],
   "source": [
    "df.duplicated().sum()"
   ]
  },
  {
   "cell_type": "code",
   "execution_count": 10,
   "id": "df2fe050-2ad9-4351-b8c2-568abf833f05",
   "metadata": {},
   "outputs": [
    {
     "data": {
      "text/plain": [
       "(429435, 55)"
      ]
     },
     "execution_count": 10,
     "metadata": {},
     "output_type": "execute_result"
    }
   ],
   "source": [
    "df.shape"
   ]
  },
  {
   "cell_type": "code",
   "execution_count": 11,
   "id": "99c8d03d-2dbf-4bfe-8717-f6818c656e83",
   "metadata": {},
   "outputs": [
    {
     "data": {
      "text/html": [
       "<div>\n",
       "<style scoped>\n",
       "    .dataframe tbody tr th:only-of-type {\n",
       "        vertical-align: middle;\n",
       "    }\n",
       "\n",
       "    .dataframe tbody tr th {\n",
       "        vertical-align: top;\n",
       "    }\n",
       "\n",
       "    .dataframe thead th {\n",
       "        text-align: right;\n",
       "    }\n",
       "</style>\n",
       "<table border=\"1\" class=\"dataframe\">\n",
       "  <thead>\n",
       "    <tr style=\"text-align: right;\">\n",
       "      <th></th>\n",
       "      <th>iso_code</th>\n",
       "      <th>continent</th>\n",
       "      <th>location</th>\n",
       "      <th>date</th>\n",
       "      <th>total_cases</th>\n",
       "      <th>new_cases</th>\n",
       "      <th>new_cases_smoothed</th>\n",
       "      <th>total_deaths</th>\n",
       "      <th>new_deaths</th>\n",
       "      <th>new_deaths_smoothed</th>\n",
       "      <th>...</th>\n",
       "      <th>extreme_poverty</th>\n",
       "      <th>cardiovasc_death_rate</th>\n",
       "      <th>diabetes_prevalence</th>\n",
       "      <th>female_smokers</th>\n",
       "      <th>male_smokers</th>\n",
       "      <th>handwashing_facilities</th>\n",
       "      <th>hospital_beds_per_thousand</th>\n",
       "      <th>life_expectancy</th>\n",
       "      <th>human_development_index</th>\n",
       "      <th>population</th>\n",
       "    </tr>\n",
       "  </thead>\n",
       "  <tbody>\n",
       "    <tr>\n",
       "      <th>0</th>\n",
       "      <td>AFG</td>\n",
       "      <td>Asia</td>\n",
       "      <td>Afghanistan</td>\n",
       "      <td>2020-01-05</td>\n",
       "      <td>0.0</td>\n",
       "      <td>0.0</td>\n",
       "      <td>NaN</td>\n",
       "      <td>0.0</td>\n",
       "      <td>0.0</td>\n",
       "      <td>NaN</td>\n",
       "      <td>...</td>\n",
       "      <td>NaN</td>\n",
       "      <td>597.029</td>\n",
       "      <td>9.59</td>\n",
       "      <td>NaN</td>\n",
       "      <td>NaN</td>\n",
       "      <td>37.746</td>\n",
       "      <td>0.5</td>\n",
       "      <td>64.83</td>\n",
       "      <td>0.511</td>\n",
       "      <td>41128772</td>\n",
       "    </tr>\n",
       "    <tr>\n",
       "      <th>1</th>\n",
       "      <td>AFG</td>\n",
       "      <td>Asia</td>\n",
       "      <td>Afghanistan</td>\n",
       "      <td>2020-01-06</td>\n",
       "      <td>0.0</td>\n",
       "      <td>0.0</td>\n",
       "      <td>NaN</td>\n",
       "      <td>0.0</td>\n",
       "      <td>0.0</td>\n",
       "      <td>NaN</td>\n",
       "      <td>...</td>\n",
       "      <td>NaN</td>\n",
       "      <td>597.029</td>\n",
       "      <td>9.59</td>\n",
       "      <td>NaN</td>\n",
       "      <td>NaN</td>\n",
       "      <td>37.746</td>\n",
       "      <td>0.5</td>\n",
       "      <td>64.83</td>\n",
       "      <td>0.511</td>\n",
       "      <td>41128772</td>\n",
       "    </tr>\n",
       "    <tr>\n",
       "      <th>2</th>\n",
       "      <td>AFG</td>\n",
       "      <td>Asia</td>\n",
       "      <td>Afghanistan</td>\n",
       "      <td>2020-01-07</td>\n",
       "      <td>0.0</td>\n",
       "      <td>0.0</td>\n",
       "      <td>NaN</td>\n",
       "      <td>0.0</td>\n",
       "      <td>0.0</td>\n",
       "      <td>NaN</td>\n",
       "      <td>...</td>\n",
       "      <td>NaN</td>\n",
       "      <td>597.029</td>\n",
       "      <td>9.59</td>\n",
       "      <td>NaN</td>\n",
       "      <td>NaN</td>\n",
       "      <td>37.746</td>\n",
       "      <td>0.5</td>\n",
       "      <td>64.83</td>\n",
       "      <td>0.511</td>\n",
       "      <td>41128772</td>\n",
       "    </tr>\n",
       "    <tr>\n",
       "      <th>3</th>\n",
       "      <td>AFG</td>\n",
       "      <td>Asia</td>\n",
       "      <td>Afghanistan</td>\n",
       "      <td>2020-01-08</td>\n",
       "      <td>0.0</td>\n",
       "      <td>0.0</td>\n",
       "      <td>NaN</td>\n",
       "      <td>0.0</td>\n",
       "      <td>0.0</td>\n",
       "      <td>NaN</td>\n",
       "      <td>...</td>\n",
       "      <td>NaN</td>\n",
       "      <td>597.029</td>\n",
       "      <td>9.59</td>\n",
       "      <td>NaN</td>\n",
       "      <td>NaN</td>\n",
       "      <td>37.746</td>\n",
       "      <td>0.5</td>\n",
       "      <td>64.83</td>\n",
       "      <td>0.511</td>\n",
       "      <td>41128772</td>\n",
       "    </tr>\n",
       "    <tr>\n",
       "      <th>4</th>\n",
       "      <td>AFG</td>\n",
       "      <td>Asia</td>\n",
       "      <td>Afghanistan</td>\n",
       "      <td>2020-01-09</td>\n",
       "      <td>0.0</td>\n",
       "      <td>0.0</td>\n",
       "      <td>NaN</td>\n",
       "      <td>0.0</td>\n",
       "      <td>0.0</td>\n",
       "      <td>NaN</td>\n",
       "      <td>...</td>\n",
       "      <td>NaN</td>\n",
       "      <td>597.029</td>\n",
       "      <td>9.59</td>\n",
       "      <td>NaN</td>\n",
       "      <td>NaN</td>\n",
       "      <td>37.746</td>\n",
       "      <td>0.5</td>\n",
       "      <td>64.83</td>\n",
       "      <td>0.511</td>\n",
       "      <td>41128772</td>\n",
       "    </tr>\n",
       "  </tbody>\n",
       "</table>\n",
       "<p>5 rows × 55 columns</p>\n",
       "</div>"
      ],
      "text/plain": [
       "  iso_code continent     location        date  total_cases  new_cases  \\\n",
       "0      AFG      Asia  Afghanistan  2020-01-05          0.0        0.0   \n",
       "1      AFG      Asia  Afghanistan  2020-01-06          0.0        0.0   \n",
       "2      AFG      Asia  Afghanistan  2020-01-07          0.0        0.0   \n",
       "3      AFG      Asia  Afghanistan  2020-01-08          0.0        0.0   \n",
       "4      AFG      Asia  Afghanistan  2020-01-09          0.0        0.0   \n",
       "\n",
       "   new_cases_smoothed  total_deaths  new_deaths  new_deaths_smoothed  ...  \\\n",
       "0                 NaN           0.0         0.0                  NaN  ...   \n",
       "1                 NaN           0.0         0.0                  NaN  ...   \n",
       "2                 NaN           0.0         0.0                  NaN  ...   \n",
       "3                 NaN           0.0         0.0                  NaN  ...   \n",
       "4                 NaN           0.0         0.0                  NaN  ...   \n",
       "\n",
       "   extreme_poverty  cardiovasc_death_rate  diabetes_prevalence  \\\n",
       "0              NaN                597.029                 9.59   \n",
       "1              NaN                597.029                 9.59   \n",
       "2              NaN                597.029                 9.59   \n",
       "3              NaN                597.029                 9.59   \n",
       "4              NaN                597.029                 9.59   \n",
       "\n",
       "   female_smokers  male_smokers  handwashing_facilities  \\\n",
       "0             NaN           NaN                  37.746   \n",
       "1             NaN           NaN                  37.746   \n",
       "2             NaN           NaN                  37.746   \n",
       "3             NaN           NaN                  37.746   \n",
       "4             NaN           NaN                  37.746   \n",
       "\n",
       "   hospital_beds_per_thousand  life_expectancy  human_development_index  \\\n",
       "0                         0.5            64.83                    0.511   \n",
       "1                         0.5            64.83                    0.511   \n",
       "2                         0.5            64.83                    0.511   \n",
       "3                         0.5            64.83                    0.511   \n",
       "4                         0.5            64.83                    0.511   \n",
       "\n",
       "   population  \n",
       "0    41128772  \n",
       "1    41128772  \n",
       "2    41128772  \n",
       "3    41128772  \n",
       "4    41128772  \n",
       "\n",
       "[5 rows x 55 columns]"
      ]
     },
     "execution_count": 11,
     "metadata": {},
     "output_type": "execute_result"
    }
   ],
   "source": [
    "df.head()"
   ]
  },
  {
   "cell_type": "markdown",
   "id": "f8737d4b-6cd7-41e4-b024-615fa1cd798f",
   "metadata": {},
   "source": [
    "الفترة الزمنية المدروسة"
   ]
  },
  {
   "cell_type": "code",
   "execution_count": 12,
   "id": "898f15e4-88a5-4b16-af22-d8e169179753",
   "metadata": {},
   "outputs": [
    {
     "name": "stdout",
     "output_type": "stream",
     "text": [
      "2020-01-01\n"
     ]
    }
   ],
   "source": [
    "print(df['date'].min())"
   ]
  },
  {
   "cell_type": "code",
   "execution_count": 13,
   "id": "43670477-c63b-448f-9c6a-cc9cf646c431",
   "metadata": {},
   "outputs": [
    {
     "name": "stdout",
     "output_type": "stream",
     "text": [
      "2024-08-14\n"
     ]
    }
   ],
   "source": [
    "print(df['date'].max())"
   ]
  },
  {
   "cell_type": "markdown",
   "id": "c111b599-94a3-4d07-a8ab-13b28eb12e7f",
   "metadata": {},
   "source": [
    " الامتداد الجغرافي_عدد البلدان قبل المعالجة"
   ]
  },
  {
   "cell_type": "code",
   "execution_count": 14,
   "id": "f6f0aa8f-9c5c-4d22-8d15-8e0f0ae02798",
   "metadata": {},
   "outputs": [
    {
     "data": {
      "text/plain": [
       "255"
      ]
     },
     "execution_count": 14,
     "metadata": {},
     "output_type": "execute_result"
    }
   ],
   "source": [
    "df['location'].nunique()"
   ]
  },
  {
   "cell_type": "code",
   "execution_count": 15,
   "id": "8ff4bdd6-2c80-4989-b9c6-8d2ba068aeda",
   "metadata": {},
   "outputs": [
    {
     "data": {
      "text/plain": [
       "array(['Afghanistan', 'Africa', 'Albania', 'Algeria', 'American Samoa',\n",
       "       'Andorra', 'Angola', 'Anguilla', 'Antigua and Barbuda',\n",
       "       'Argentina', 'Armenia', 'Aruba', 'Asia', 'Australia', 'Austria',\n",
       "       'Azerbaijan', 'Bahamas', 'Bahrain', 'Bangladesh', 'Barbados',\n",
       "       'Belarus', 'Belgium', 'Belize', 'Benin', 'Bermuda', 'Bhutan',\n",
       "       'Bolivia', 'Bonaire Sint Eustatius and Saba',\n",
       "       'Bosnia and Herzegovina', 'Botswana', 'Brazil',\n",
       "       'British Virgin Islands', 'Brunei', 'Bulgaria', 'Burkina Faso',\n",
       "       'Burundi', 'Cambodia', 'Cameroon', 'Canada', 'Cape Verde',\n",
       "       'Cayman Islands', 'Central African Republic', 'Chad', 'Chile',\n",
       "       'China', 'Colombia', 'Comoros', 'Congo', 'Cook Islands',\n",
       "       'Costa Rica', \"Cote d'Ivoire\", 'Croatia', 'Cuba', 'Curacao',\n",
       "       'Cyprus', 'Czechia', 'Democratic Republic of Congo', 'Denmark',\n",
       "       'Djibouti', 'Dominica', 'Dominican Republic', 'East Timor',\n",
       "       'Ecuador', 'Egypt', 'El Salvador', 'England', 'Equatorial Guinea',\n",
       "       'Eritrea', 'Estonia', 'Eswatini', 'Ethiopia', 'Europe',\n",
       "       'European Union (27)', 'Faroe Islands', 'Falkland Islands', 'Fiji',\n",
       "       'Finland', 'France', 'French Guiana', 'French Polynesia', 'Gabon',\n",
       "       'Gambia', 'Georgia', 'Germany', 'Ghana', 'Gibraltar', 'Greece',\n",
       "       'Greenland', 'Grenada', 'Guadeloupe', 'Guam', 'Guatemala',\n",
       "       'Guernsey', 'Guinea', 'Guinea-Bissau', 'Guyana', 'Haiti',\n",
       "       'High-income countries', 'Honduras', 'Hong Kong', 'Hungary',\n",
       "       'Iceland', 'India', 'Indonesia', 'Iran', 'Iraq', 'Ireland',\n",
       "       'Isle of Man', 'Israel', 'Italy', 'Jamaica', 'Japan', 'Jersey',\n",
       "       'Jordan', 'Kazakhstan', 'Kenya', 'Kiribati', 'Kosovo', 'Kuwait',\n",
       "       'Kyrgyzstan', 'Laos', 'Latvia', 'Lebanon', 'Lesotho', 'Liberia',\n",
       "       'Libya', 'Liechtenstein', 'Lithuania', 'Low-income countries',\n",
       "       'Lower-middle-income countries', 'Luxembourg', 'Macao',\n",
       "       'Madagascar', 'Malawi', 'Malaysia', 'Maldives', 'Mali', 'Malta',\n",
       "       'Marshall Islands', 'Martinique', 'Mauritania', 'Mauritius',\n",
       "       'Mayotte', 'Mexico', 'Micronesia (country)', 'Moldova', 'Monaco',\n",
       "       'Mongolia', 'Montenegro', 'Montserrat', 'Morocco', 'Mozambique',\n",
       "       'Myanmar', 'Namibia', 'Nauru', 'Nepal', 'Netherlands',\n",
       "       'New Caledonia', 'New Zealand', 'Nicaragua', 'Niger', 'Nigeria',\n",
       "       'Niue', 'North America', 'North Korea', 'North Macedonia',\n",
       "       'Northern Cyprus', 'Northern Ireland', 'Northern Mariana Islands',\n",
       "       'Norway', 'Oceania', 'Oman', 'Pakistan', 'Palau', 'Palestine',\n",
       "       'Panama', 'Papua New Guinea', 'Paraguay', 'Peru', 'Philippines',\n",
       "       'Pitcairn', 'Poland', 'Portugal', 'Puerto Rico', 'Qatar',\n",
       "       'Reunion', 'Romania', 'Russia', 'Rwanda', 'Saint Barthelemy',\n",
       "       'Saint Helena', 'Saint Kitts and Nevis', 'Saint Lucia',\n",
       "       'Saint Martin (French part)', 'Saint Pierre and Miquelon',\n",
       "       'Saint Vincent and the Grenadines', 'Samoa', 'San Marino',\n",
       "       'Sao Tome and Principe', 'Saudi Arabia', 'Scotland', 'Senegal',\n",
       "       'Serbia', 'Seychelles', 'Sierra Leone', 'Singapore',\n",
       "       'Sint Maarten (Dutch part)', 'Slovakia', 'Slovenia',\n",
       "       'Solomon Islands', 'Somalia', 'South Africa', 'South America',\n",
       "       'South Korea', 'South Sudan', 'Spain', 'Sri Lanka', 'Sudan',\n",
       "       'Suriname', 'Sweden', 'Switzerland', 'Syria', 'Taiwan',\n",
       "       'Tajikistan', 'Tanzania', 'Thailand', 'Togo', 'Tokelau', 'Tonga',\n",
       "       'Trinidad and Tobago', 'Tunisia', 'Turkey', 'Turkmenistan',\n",
       "       'Turks and Caicos Islands', 'Tuvalu', 'Uganda', 'Ukraine',\n",
       "       'United Arab Emirates', 'United Kingdom', 'United States',\n",
       "       'United States Virgin Islands', 'Upper-middle-income countries',\n",
       "       'Uruguay', 'Uzbekistan', 'Vanuatu', 'Vatican', 'Venezuela',\n",
       "       'Vietnam', 'Wales', 'Wallis and Futuna', 'Western Sahara', 'World',\n",
       "       'Yemen', 'Zambia', 'Zimbabwe'], dtype=object)"
      ]
     },
     "execution_count": 15,
     "metadata": {},
     "output_type": "execute_result"
    }
   ],
   "source": [
    "df['location'].unique()"
   ]
  },
  {
   "cell_type": "markdown",
   "id": "79590de2-cdbd-4eb7-85b1-3901f761ff74",
   "metadata": {},
   "source": [
    "نلاحظ وجود تكتلات"
   ]
  },
  {
   "cell_type": "code",
   "execution_count": 16,
   "id": "27582ccd-aea6-4552-a99b-55c30122d3c7",
   "metadata": {},
   "outputs": [],
   "source": [
    "to_remove = [\"World\", \"Asia\", \"Europe\", \"Africa\", \"Oceania\", \"High income\",\n",
    "             \"Upper middle income\", \"Lower middle income\", \"Low income\",\n",
    "             \"European Union\",\"European Union (27)\",\"North America\",\"South America\"]\n",
    " \n",
    "df = df[~df['location'].isin(to_remove)]\n"
   ]
  },
  {
   "cell_type": "code",
   "execution_count": 17,
   "id": "8ea1a095-3e16-45f6-b163-0e7f06dab55c",
   "metadata": {},
   "outputs": [],
   "source": [
    "df = df[~df['location'].isin(to_remove)].copy()"
   ]
  },
  {
   "cell_type": "code",
   "execution_count": 18,
   "id": "693676d3-cf3b-4193-87b7-f6709c31d382",
   "metadata": {},
   "outputs": [
    {
     "data": {
      "text/plain": [
       "247"
      ]
     },
     "execution_count": 18,
     "metadata": {},
     "output_type": "execute_result"
    }
   ],
   "source": [
    "df['location'].nunique()"
   ]
  },
  {
   "cell_type": "markdown",
   "id": "40cefd01-fedf-4d15-8245-3b3e136af271",
   "metadata": {},
   "source": [
    "top 10 countries by total deaths latest date"
   ]
  },
  {
   "cell_type": "code",
   "execution_count": 19,
   "id": "5a54eb86-d2ab-4277-8583-8cc7b621ee8a",
   "metadata": {},
   "outputs": [],
   "source": [
    "df_date_sorted = df.sort_values(\"date\")\n",
    "\n",
    "df_top_10 = df_date_sorted.drop_duplicates(\"location\", keep=\"last\").dropna().sort_values(ascending=False, by=\"total_deaths\").head(10)\n",
    "\n"
   ]
  },
  {
   "cell_type": "code",
   "execution_count": 20,
   "id": "1d7c9320-c5e5-43c0-9b9b-065a65149c20",
   "metadata": {},
   "outputs": [
    {
     "data": {
      "image/png": "[encoded data removed]",
      "text/plain": [
       "<Figure size 640x480 with 1 Axes>"
      ]
     },
     "metadata": {},
     "output_type": "display_data"
    }
   ],
   "source": [
    "import seaborn as sns\n",
    "import matplotlib.pyplot as plt\n",
    "sns.barplot(data=df_top_10, x='total_deaths', y='location')\n",
    "plt.title('Top 10 Countries by Total COVID Deaths')\n",
    "plt.xlabel('Total Deaths')\n",
    "plt.ylabel('Country')\n",
    "plt.show()"
   ]
  },
  {
   "cell_type": "markdown",
   "id": "83af8923-e556-46c2-92da-91177ff43a18",
   "metadata": {},
   "source": [
    "top 10 countries by  Deaths Rate latest date"
   ]
  },
  {
   "cell_type": "code",
   "execution_count": 21,
   "id": "14560448-695e-4427-b365-114abf9814bb",
   "metadata": {},
   "outputs": [],
   "source": [
    "df[\"death_rate\"] = df[\"total_deaths\"]/df[\"total_cases\"]"
   ]
  },
  {
   "cell_type": "code",
   "execution_count": null,
   "id": "46492311-1b1b-4282-b4c5-0241a105770d",
   "metadata": {},
   "outputs": [],
   "source": [
    "df_date_sorted = df.sort_values(\"date\").drop_duplicates(\"location\", keep=\"last\")\n",
    "\n",
    "df_top_10 = df_date_sorted[[\"location\", \"death_rate\"]].dropna().sort_values(ascending=False, by=\"death_rate\").head(10)\n"
   ]
  },
  {
   "cell_type": "code",
   "execution_count": null,
   "id": "2a28f48a-bfa2-474d-845e-48426fff13b0",
   "metadata": {},
   "outputs": [],
   "source": [
    "import seaborn as sns\n",
    "import matplotlib.pyplot as plt\n",
    "sns.barplot(data=df_top_10, x='death_rate', y='location')\n",
    "plt.title('Top 10 Countries by  COVID Deaths Rates')\n",
    "plt.xlabel('Total Deaths')\n",
    "plt.ylabel('Country')\n",
    "plt.show()"
   ]
  },
  {
   "cell_type": "code",
   "execution_count": null,
   "id": "c6281ec9-df5c-4d39-aad1-c76eb43cd3a1",
   "metadata": {},
   "outputs": [],
   "source": [
    "df['death_rate'].head()"
   ]
  },
  {
   "cell_type": "code",
   "execution_count": null,
   "id": "e06d9b46-9431-4457-9107-1537f3deab15",
   "metadata": {},
   "outputs": [],
   "source": []
  },
  {
   "cell_type": "code",
   "execution_count": null,
   "id": "6e8acbce-de95-413a-a3e5-7598c7547c5b",
   "metadata": {},
   "outputs": [],
   "source": []
  },
  {
   "cell_type": "code",
   "execution_count": null,
   "id": "d7a709d2-b2b9-4308-b6a7-fcd54796dfd4",
   "metadata": {},
   "outputs": [],
   "source": []
  },
  {
   "cell_type": "code",
   "execution_count": null,
   "id": "b92f2f2e-a677-41d6-8e48-1cedfd1cb41c",
   "metadata": {},
   "outputs": [],
   "source": []
  }
 ],
 "metadata": {
  "kernelspec": {
   "display_name": "Python 3 (ipykernel)",
   "language": "python",
   "name": "python3"
  },
  "language_info": {
   "codemirror_mode": {
    "name": "ipython",
    "version": 3
   },
   "file_extension": ".py",
   "mimetype": "text/x-python",
   "name": "python",
   "nbconvert_exporter": "python",
   "pygments_lexer": "ipython3",
   "version": "3.12.7"
  }
 },
 "nbformat": 4,
 "nbformat_minor": 5
}
